{
 "cells": [
  {
   "cell_type": "markdown",
   "id": "628509b8",
   "metadata": {},
   "source": [
    "Q. Write a function to generate N samples from a normal distribution and plot them on the histogram."
   ]
  },
  {
   "cell_type": "code",
   "execution_count": 1,
   "id": "96c08915",
   "metadata": {},
   "outputs": [],
   "source": [
    "import numpy as np"
   ]
  },
  {
   "cell_type": "code",
   "execution_count": 2,
   "id": "612fd525",
   "metadata": {},
   "outputs": [
    {
     "name": "stdout",
     "output_type": "stream",
     "text": [
      "[2 3 4 5] [6 7 8 9]\n"
     ]
    }
   ],
   "source": [
    "arr1=np.array([2,3,4,5])\n",
    "arr2=np.array([6,7,8,9])\n",
    "print(arr1,arr2)"
   ]
  },
  {
   "cell_type": "code",
   "execution_count": 4,
   "id": "b3b390bb",
   "metadata": {},
   "outputs": [
    {
     "name": "stdout",
     "output_type": "stream",
     "text": [
      "[12 21 32 45]\n"
     ]
    }
   ],
   "source": [
    "# Multiplying two numpy array together BY NOT USING FOR LOOP\n",
    "mul=arr1*arr2\n",
    "print(mul)"
   ]
  },
  {
   "cell_type": "code",
   "execution_count": 5,
   "id": "006eedd2",
   "metadata": {},
   "outputs": [
    {
     "name": "stdout",
     "output_type": "stream",
     "text": [
      "[ 144  441 1024 2025]\n"
     ]
    }
   ],
   "source": [
    "# Square each element in numpy array WITHOUT USING FOR LOOP and then multiply the two arrays\n",
    "sq=(arr1**2)*(arr2**2)\n",
    "print(sq)"
   ]
  },
  {
   "cell_type": "code",
   "execution_count": 6,
   "id": "f28ba584",
   "metadata": {},
   "outputs": [
    {
     "name": "stdout",
     "output_type": "stream",
     "text": [
      "[[1 1 1]\n",
      " [1 1 1]\n",
      " [1 1 1]\n",
      " [1 1 1]]\n"
     ]
    }
   ],
   "source": [
    "# Create a numpy matrix of 4X3 of data type int FILLED WITH ONES\n",
    "ones=np.ones([4,3],int)\n",
    "print(ones)"
   ]
  },
  {
   "cell_type": "code",
   "execution_count": 8,
   "id": "fd94c492",
   "metadata": {},
   "outputs": [
    {
     "name": "stdout",
     "output_type": "stream",
     "text": [
      "[[0 0 0 0 0 0]\n",
      " [0 0 0 0 0 0]\n",
      " [0 0 0 0 0 0]\n",
      " [0 0 0 0 0 0]\n",
      " [0 0 0 0 0 0]]\n"
     ]
    }
   ],
   "source": [
    "# Create a numpy matrix of 5X6 of data type int FILLED WITH ZEROS\n",
    "zeros=np.zeros([5,6],int)\n",
    "print(zeros)"
   ]
  },
  {
   "cell_type": "code",
   "execution_count": 12,
   "id": "1e54f92d",
   "metadata": {},
   "outputs": [
    {
     "name": "stdout",
     "output_type": "stream",
     "text": [
      "[[0.28001125 0.396052   0.84317374 0.7098223  0.77091889]\n",
      " [0.12626861 0.81645426 0.6528869  0.2298444  0.7509116 ]\n",
      " [0.01430199 0.03514867 0.14404292 0.73469109 0.81284714]\n",
      " [0.14736307 0.12846315 0.92859279 0.10655547 0.9345796 ]\n",
      " [0.07304237 0.04125108 0.11855047 0.33447557 0.93951112]\n",
      " [0.35713156 0.07924321 0.4216223  0.75329779 0.87362849]]\n"
     ]
    }
   ],
   "source": [
    "# Create a random matrix of size 6X5\n",
    "randm=np.random.random([6,5])\n",
    "print(randm)"
   ]
  },
  {
   "cell_type": "code",
   "execution_count": 13,
   "id": "c7bd798c",
   "metadata": {},
   "outputs": [
    {
     "name": "stdout",
     "output_type": "stream",
     "text": [
      "[ 50  70  90 110 130 150 170 190 210 230 250 270 290 310 330 350 370 390\n",
      " 410 430 450 470 490 510 530 550 570 590 610 630 650 670 690 710 730 750\n",
      " 770 790 810 830 850 870 890 910 930 950 970 990]\n"
     ]
    }
   ],
   "source": [
    "# Create a 10X10 matrix ranging from 50 to 1000 of step size 20\n",
    "rang=np.arange(50,1000,20)\n",
    "print(rang)"
   ]
  },
  {
   "cell_type": "code",
   "execution_count": 51,
   "id": "cccc6043",
   "metadata": {},
   "outputs": [
    {
     "name": "stdout",
     "output_type": "stream",
     "text": [
      "[  1.          11.18367347  21.36734694  31.55102041  41.73469388\n",
      "  51.91836735  62.10204082  72.28571429  82.46938776  92.65306122\n",
      " 102.83673469 113.02040816 123.20408163 133.3877551  143.57142857\n",
      " 153.75510204 163.93877551 174.12244898 184.30612245 194.48979592\n",
      " 204.67346939 214.85714286 225.04081633 235.2244898  245.40816327\n",
      " 255.59183673 265.7755102  275.95918367 286.14285714 296.32653061\n",
      " 306.51020408 316.69387755 326.87755102 337.06122449 347.24489796\n",
      " 357.42857143 367.6122449  377.79591837 387.97959184 398.16326531\n",
      " 408.34693878 418.53061224 428.71428571 438.89795918 449.08163265\n",
      " 459.26530612 469.44897959 479.63265306 489.81632653 500.        ]\n"
     ]
    }
   ],
   "source": [
    "# Create an array of 50 numbers starting from 1 to 500 without determining the step size of the range\n",
    "linsp=np.linspace(1,500,50)\n",
    "print(linsp)"
   ]
  },
  {
   "cell_type": "code",
   "execution_count": 17,
   "id": "0af9d437",
   "metadata": {},
   "outputs": [
    {
     "name": "stdout",
     "output_type": "stream",
     "text": [
      "[[9 9 9 9 9 9]\n",
      " [9 9 9 9 9 9]\n",
      " [9 9 9 9 9 9]\n",
      " [9 9 9 9 9 9]\n",
      " [9 9 9 9 9 9]\n",
      " [9 9 9 9 9 9]\n",
      " [9 9 9 9 9 9]\n",
      " [9 9 9 9 9 9]]\n"
     ]
    }
   ],
   "source": [
    "# Create a constant array of any number N\n",
    "con=np.full([8,6],9)\n",
    "print(con)"
   ]
  },
  {
   "cell_type": "code",
   "execution_count": 20,
   "id": "24335da5",
   "metadata": {},
   "outputs": [
    {
     "name": "stdout",
     "output_type": "stream",
     "text": [
      "[[10 20 30 10 20 30 10 20 30]\n",
      " [10 20 30 10 20 30 10 20 30]\n",
      " [10 20 30 10 20 30 10 20 30]\n",
      " [10 20 30 10 20 30 10 20 30]\n",
      " [10 20 30 10 20 30 10 20 30]]\n"
     ]
    }
   ],
   "source": [
    "# Create 5X3 tile of arrays in a separate array \n",
    "tile=np.tile([10,20,30],[5,3])\n",
    "print(tile)"
   ]
  },
  {
   "cell_type": "code",
   "execution_count": 24,
   "id": "6e4692b8",
   "metadata": {},
   "outputs": [
    {
     "name": "stdout",
     "output_type": "stream",
     "text": [
      "[[1 0 0]\n",
      " [0 1 0]\n",
      " [0 0 1]]\n"
     ]
    }
   ],
   "source": [
    "# Create an identity matrix of size 3X3\n",
    "eye=np.eye(3,dtype=int)\n",
    "print(eye)"
   ]
  },
  {
   "cell_type": "code",
   "execution_count": 26,
   "id": "ddc253d4",
   "metadata": {},
   "outputs": [
    {
     "name": "stdout",
     "output_type": "stream",
     "text": [
      "[[11 12 12]\n",
      " [14 13 12]\n",
      " [14 19 15]]\n"
     ]
    }
   ],
   "source": [
    "# Create a random array of integers within 10 and 20 of size 3X3\n",
    "rndint=np.random.randint(10,20,[3,3])\n",
    "print(rndint)"
   ]
  },
  {
   "cell_type": "code",
   "execution_count": 40,
   "id": "b8698291",
   "metadata": {},
   "outputs": [
    {
     "name": "stdout",
     "output_type": "stream",
     "text": [
      "Array:\t [[0.28001125 0.396052   0.84317374 0.7098223  0.77091889]\n",
      " [0.12626861 0.81645426 0.6528869  0.2298444  0.7509116 ]\n",
      " [0.01430199 0.03514867 0.14404292 0.73469109 0.81284714]\n",
      " [0.14736307 0.12846315 0.92859279 0.10655547 0.9345796 ]\n",
      " [0.07304237 0.04125108 0.11855047 0.33447557 0.93951112]\n",
      " [0.35713156 0.07924321 0.4216223  0.75329779 0.87362849]] \n",
      "\n",
      "Shape:  (6, 5) \t Type:  float64 \t Dimensions:  2 \t Item Size:  8\n"
     ]
    }
   ],
   "source": [
    "# Get shape shape, dtype, ndim and itemsize of array\n",
    "print(\"Array:\\t\",randm,\"\\n\")\n",
    "print(\"Shape: \",randm.shape,\"\\t\",\"Type: \",randm.dtype,\"\\t\",\"Dimensions: \",randm.ndim,\"\\t\",\"Item Size: \",randm.itemsize)"
   ]
  },
  {
   "cell_type": "code",
   "execution_count": 64,
   "id": "7a0b77f9",
   "metadata": {},
   "outputs": [
    {
     "name": "stdout",
     "output_type": "stream",
     "text": [
      "Print the 4th element in array\t[ 144  441 1024 2025]:\t2025\n",
      "\n",
      "Get only 2nd 3rd 4th element:\t[ 70  90 110]\n",
      "\n",
      "Get first3 and last3:\t[50 70 90]\t[950 970 990]\n",
      "\n",
      "Get subset of values at increment of 5 starting from 0:\t[ 50 150 250 350 450 550 650 750 850 950]\n",
      "Get the 3rd row 2nd element in array:\t0.03514867397003607\n"
     ]
    }
   ],
   "source": [
    "# SLICING AND INDEXING in numpy arrays\n",
    "print(f\"Print the 4th element in array\\t{sq}:\\t{sq[3]}\\n\")\n",
    "\n",
    "print(f\"Get only 2nd 3rd 4th element:\\t{rang[[1,2,3]]}\\n\")\n",
    "\n",
    "print(f\"Get first3 and last3:\\t{rang[0:3]}\\t{rang[len(rang)-3:]}\\n\")\n",
    "\n",
    "print(f\"Get subset of values at increment of 5 starting from 0:\\t{rang[0::5]}\")\n",
    "\n",
    "print(f\"Get the 3rd row 2nd element in array:\\t{randm[2,1]}\")"
   ]
  },
  {
   "cell_type": "code",
   "execution_count": null,
   "id": "515ef84b",
   "metadata": {},
   "outputs": [],
   "source": []
  }
 ],
 "metadata": {
  "kernelspec": {
   "display_name": "Python 3 (ipykernel)",
   "language": "python",
   "name": "python3"
  },
  "language_info": {
   "codemirror_mode": {
    "name": "ipython",
    "version": 3
   },
   "file_extension": ".py",
   "mimetype": "text/x-python",
   "name": "python",
   "nbconvert_exporter": "python",
   "pygments_lexer": "ipython3",
   "version": "3.9.6"
  }
 },
 "nbformat": 4,
 "nbformat_minor": 5
}
