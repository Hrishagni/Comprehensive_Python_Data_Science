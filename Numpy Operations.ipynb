{
 "cells": [
  {
   "cell_type": "code",
   "execution_count": 1,
   "id": "020711d1",
   "metadata": {},
   "outputs": [],
   "source": [
    "import numpy as np"
   ]
  },
  {
   "cell_type": "code",
   "execution_count": 3,
   "id": "f9774db1",
   "metadata": {},
   "outputs": [
    {
     "name": "stdout",
     "output_type": "stream",
     "text": [
      "[ 1  3  5  7  9 11 13 15 17 19 21 23 25 27 29 31 33 35 37 39]\n"
     ]
    }
   ],
   "source": [
    "arr1=np.arange(1,40,2)\n",
    "print(arr1)"
   ]
  },
  {
   "cell_type": "code",
   "execution_count": 4,
   "id": "f3e7bb74",
   "metadata": {},
   "outputs": [
    {
     "name": "stdout",
     "output_type": "stream",
     "text": [
      "[[ 1  3  5  7  9]\n",
      " [11 13 15 17 19]\n",
      " [21 23 25 27 29]\n",
      " [31 33 35 37 39]]\n"
     ]
    }
   ],
   "source": [
    "# Reshape array to matrix of size 4X5\n",
    "arr2=arr1.reshape(4,5)\n",
    "print(arr2)"
   ]
  },
  {
   "cell_type": "code",
   "execution_count": 9,
   "id": "15038051",
   "metadata": {},
   "outputs": [
    {
     "name": "stdout",
     "output_type": "stream",
     "text": [
      "[[ 1  3  5  7]\n",
      " [ 9 11 13 15]\n",
      " [17 19 21 23]\n",
      " [25 27 29 31]\n",
      " [33 35 37 39]]\n"
     ]
    }
   ],
   "source": [
    "# Reshape array without determining the column size BY USING -1\n",
    "arr3=arr2.reshape(5,-1)\n",
    "print(arr3)"
   ]
  },
  {
   "cell_type": "code",
   "execution_count": 10,
   "id": "f17b19a7",
   "metadata": {},
   "outputs": [
    {
     "name": "stdout",
     "output_type": "stream",
     "text": [
      "[[ 1  9 17 25 33]\n",
      " [ 3 11 19 27 35]\n",
      " [ 5 13 21 29 37]\n",
      " [ 7 15 23 31 39]]\n"
     ]
    }
   ],
   "source": [
    "# Transpose a numpy array\n",
    "arr4=arr3.T\n",
    "print(arr4)"
   ]
  },
  {
   "cell_type": "code",
   "execution_count": 27,
   "id": "d5a25546",
   "metadata": {},
   "outputs": [
    {
     "name": "stdout",
     "output_type": "stream",
     "text": [
      "[[ 1  2  3  4  5  6]\n",
      " [ 7  8  9 10 11 12]\n",
      " [13 14 15 16 17 18]\n",
      " [19 20 21 22 23 24]\n",
      " [25 26 27 28 29 30]] \n",
      "\n",
      " [[11  4 18 13 15  8]\n",
      " [14  3 19 17 16  5]\n",
      " [ 1 19 19 11  5 16]\n",
      " [ 6 11  9  5 14  3]\n",
      " [ 6 11  2  8 11 11]\n",
      " [14 12 13  2 10  2]\n",
      " [ 2 13 13  4  1  4]] \n",
      "\n",
      "VSTACKED::::::\n",
      "\n",
      "[[ 1  2  3  4  5  6]\n",
      " [ 7  8  9 10 11 12]\n",
      " [13 14 15 16 17 18]\n",
      " [19 20 21 22 23 24]\n",
      " [25 26 27 28 29 30]\n",
      " [11  4 18 13 15  8]\n",
      " [14  3 19 17 16  5]\n",
      " [ 1 19 19 11  5 16]\n",
      " [ 6 11  9  5 14  3]\n",
      " [ 6 11  2  8 11 11]\n",
      " [14 12 13  2 10  2]\n",
      " [ 2 13 13  4  1  4]]\n"
     ]
    }
   ],
   "source": [
    "# Stack 2 arrays vertically on top of each other, NUMBER OF COLUMNS SHOULD BE SAME FOR THIS\n",
    "ar1=np.arange(1,31).reshape(5,6)\n",
    "ar2=np.random.randint(1,20,42).reshape(7,6)\n",
    "ar3=np.vstack((ar1,ar2))\n",
    "print(ar1,\"\\n\\n\",ar2,\"\\n\\nVSTACKED::::::\\n\")\n",
    "print(ar3)"
   ]
  },
  {
   "cell_type": "code",
   "execution_count": 29,
   "id": "d3046029",
   "metadata": {},
   "outputs": [
    {
     "name": "stdout",
     "output_type": "stream",
     "text": [
      "[[ 1  2  3  4  5  6]\n",
      " [ 7  8  9 10 11 12]\n",
      " [13 14 15 16 17 18]\n",
      " [19 20 21 22 23 24]\n",
      " [25 26 27 28 29 30]] \n",
      "\n",
      " [[ 9  2  3  6 13 10 12 14]\n",
      " [17  2  3  3  2 10 10 19]\n",
      " [ 9  2 17  3  5  4 18 12]\n",
      " [ 6  9 12  9  3 14 15 17]\n",
      " [14  4 14  9 15  7 13 16]] \n",
      "\n",
      "HSTACKED::::::\n",
      "\n",
      "[[ 1  2  3  4  5  6  9  2  3  6 13 10 12 14]\n",
      " [ 7  8  9 10 11 12 17  2  3  3  2 10 10 19]\n",
      " [13 14 15 16 17 18  9  2 17  3  5  4 18 12]\n",
      " [19 20 21 22 23 24  6  9 12  9  3 14 15 17]\n",
      " [25 26 27 28 29 30 14  4 14  9 15  7 13 16]]\n"
     ]
    }
   ],
   "source": [
    "# Stack 2 arrays horizontally one beside other, NUMBER OF ROWS SHOULD BE SAME FOR THIS\n",
    "ar1=np.arange(1,31).reshape(5,6)\n",
    "ar2=np.random.randint(1,20,40).reshape(5,8)\n",
    "ar3=np.hstack((ar1,ar2))\n",
    "print(ar1,\"\\n\\n\",ar2,\"\\n\\nHSTACKED::::::\\n\")\n",
    "print(ar3)"
   ]
  },
  {
   "cell_type": "code",
   "execution_count": 33,
   "id": "9f22ae15",
   "metadata": {},
   "outputs": [
    {
     "name": "stdout",
     "output_type": "stream",
     "text": [
      "EXP:\t [2.71828183e+00 2.00855369e+01 1.48413159e+02 1.09663316e+03\n",
      " 8.10308393e+03 5.98741417e+04 4.42413392e+05 3.26901737e+06\n",
      " 2.41549528e+07 1.78482301e+08 1.31881573e+09 9.74480345e+09\n",
      " 7.20048993e+10 5.32048241e+11 3.93133430e+12 2.90488497e+13\n",
      " 2.14643580e+14 1.58601345e+15 1.17191424e+16 8.65934004e+16] \n",
      "\n",
      "SIN:\t [ 0.84147098  0.14112001 -0.95892427  0.6569866   0.41211849 -0.99999021\n",
      "  0.42016704  0.65028784 -0.96139749  0.14987721  0.83665564 -0.8462204\n",
      " -0.13235175  0.95637593 -0.66363388 -0.40403765  0.99991186 -0.42818267\n",
      " -0.64353813  0.96379539] \n",
      "\n",
      "COS:\t [ 0.54030231 -0.9899925   0.28366219  0.75390225 -0.91113026  0.0044257\n",
      "  0.90744678 -0.75968791 -0.27516334  0.98870462 -0.54772926 -0.53283302\n",
      "  0.99120281 -0.29213881 -0.74805753  0.91474236 -0.01327675 -0.90369221\n",
      "  0.76541405  0.26664293] \n",
      "\n",
      "LOG:\t [0.         1.09861229 1.60943791 1.94591015 2.19722458 2.39789527\n",
      " 2.56494936 2.7080502  2.83321334 2.94443898 3.04452244 3.13549422\n",
      " 3.21887582 3.29583687 3.36729583 3.4339872  3.49650756 3.55534806\n",
      " 3.61091791 3.66356165] \n",
      "\n",
      "SQRT:\t [1.         1.73205081 2.23606798 2.64575131 3.         3.31662479\n",
      " 3.60555128 3.87298335 4.12310563 4.35889894 4.58257569 4.79583152\n",
      " 5.         5.19615242 5.38516481 5.56776436 5.74456265 5.91607978\n",
      " 6.08276253 6.244998  ] \n",
      "\n"
     ]
    }
   ],
   "source": [
    "# Numpy basic math functions - exp, sin, cos, log, sqrt\n",
    "print(\"EXP:\\t\",np.exp(arr1),\"\\n\")\n",
    "print(\"SIN:\\t\",np.sin(arr1),\"\\n\")\n",
    "print(\"COS:\\t\",np.cos(arr1),\"\\n\")\n",
    "print(\"LOG:\\t\",np.log(arr1),\"\\n\")\n",
    "print(\"SQRT:\\t\",np.sqrt(arr1),\"\\n\")"
   ]
  },
  {
   "cell_type": "code",
   "execution_count": 39,
   "id": "6f72930c",
   "metadata": {},
   "outputs": [
    {
     "data": {
      "text/plain": [
       "array([    1,    27,   125,   343,   729,  1331,  2197,  3375,  4913,\n",
       "        6859,  9261, 12167, 15625, 19683, 24389, 29791, 35937, 42875,\n",
       "       50653, 59319])"
      ]
     },
     "execution_count": 39,
     "metadata": {},
     "output_type": "execute_result"
    }
   ],
   "source": [
    "# Apply custom function on numpy array\n",
    "f=np.vectorize(lambda x:x**3)\n",
    "f(arr1)"
   ]
  },
  {
   "cell_type": "code",
   "execution_count": 46,
   "id": "cee5854c",
   "metadata": {},
   "outputs": [
    {
     "name": "stdout",
     "output_type": "stream",
     "text": [
      "INVERSE:\n",
      " [[ 2.81474977e+14 -5.62949953e+14  2.81474977e+14]\n",
      " [-5.62949953e+14  1.12589991e+15 -5.62949953e+14]\n",
      " [ 2.81474977e+14 -5.62949953e+14  2.81474977e+14]] \n",
      "\n",
      "\n",
      "DETERMINANT:\t -4.263256414560604e-14 \n",
      "\n",
      "\n",
      "EIGENVALUES:\n",
      " [ 3.50539753e+01 -2.05397532e+00  2.82533269e-16] \n",
      "\n",
      "EIGENVECTORS:\n",
      " [[-0.25903829 -0.78021202  0.40824829]\n",
      " [-0.53244605 -0.07991115 -0.81649658]\n",
      " [-0.80585381  0.62038972  0.40824829]]\n"
     ]
    }
   ],
   "source": [
    "# Get linear algebra operations done on numpy matrix using NUMPY.LINALG\n",
    "print(\"INVERSE:\\n\",np.linalg.inv(arr1[1:10].reshape(3,3)),\"\\n\\n\")\n",
    "print(\"DETERMINANT:\\t\",np.linalg.det(arr1[1:10].reshape(3,3)),\"\\n\\n\")\n",
    "print(\"EIGENVALUES:\\n\",np.linalg.eig(arr1[1:10].reshape(3,3))[0],\"\\n\\nEIGENVECTORS:\\n\",np.linalg.eig(arr1[1:10].reshape(3,3))[1])"
   ]
  },
  {
   "cell_type": "code",
   "execution_count": 48,
   "id": "612edb19",
   "metadata": {},
   "outputs": [
    {
     "name": "stdout",
     "output_type": "stream",
     "text": [
      "[[ 275  290  305  320  335]\n",
      " [ 725  776  827  878  929]\n",
      " [1175 1262 1349 1436 1523]\n",
      " [1625 1748 1871 1994 2117]\n",
      " [2075 2234 2393 2552 2711]]\n"
     ]
    }
   ],
   "source": [
    "# Multiply numpy matrices using dot product\n",
    "m1=np.arange(30).reshape(5,6)\n",
    "m2=np.arange(30).reshape(6,5)\n",
    "print(np.dot(m1,m2))"
   ]
  },
  {
   "cell_type": "code",
   "execution_count": null,
   "id": "f21bce00",
   "metadata": {},
   "outputs": [],
   "source": []
  }
 ],
 "metadata": {
  "kernelspec": {
   "display_name": "Python 3 (ipykernel)",
   "language": "python",
   "name": "python3"
  },
  "language_info": {
   "codemirror_mode": {
    "name": "ipython",
    "version": 3
   },
   "file_extension": ".py",
   "mimetype": "text/x-python",
   "name": "python",
   "nbconvert_exporter": "python",
   "pygments_lexer": "ipython3",
   "version": "3.9.6"
  }
 },
 "nbformat": 4,
 "nbformat_minor": 5
}
